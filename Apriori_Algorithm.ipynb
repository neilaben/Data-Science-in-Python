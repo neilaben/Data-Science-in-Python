{
  "cells": [
    {
      "cell_type": "code",
      "execution_count": null,
      "metadata": {
        "colab": {
          "base_uri": "https://localhost:8080/"
        },
        "id": "2Y7yt6ZSesjw",
        "outputId": "977f494e-a947-4667-875c-37bcb09065d6"
      },
      "outputs": [
        {
          "output_type": "stream",
          "name": "stdout",
          "text": [
            "Drive already mounted at /content/drive; to attempt to forcibly remount, call drive.mount(\"/content/drive\", force_remount=True).\n"
          ]
        }
      ],
      "source": [
        "from google.colab import drive\n",
        "drive.mount('/content/drive')"
      ]
    },
    {
      "cell_type": "code",
      "source": [
        "#lists for creating bar plots\n",
        "freq_exec_time_list= []\n",
        "total_frequent_itemsets_minsup= []\n",
        "high_conf_rules_minsup= []"
      ],
      "metadata": {
        "id": "3w9cqJIYvAXj"
      },
      "execution_count": null,
      "outputs": []
    },
    {
      "cell_type": "code",
      "execution_count": null,
      "metadata": {
        "colab": {
          "base_uri": "https://localhost:8080/"
        },
        "id": "bDUagB_FdMdc",
        "outputId": "bff227f3-37fd-4395-e3f0-350b6b12473e"
      },
      "outputs": [
        {
          "output_type": "stream",
          "name": "stdout",
          "text": [
            "      transaction_ID                                          item_list\n",
            "0                  0  [1, 2, 3, 4, 5, 6, 7, 8, 9, 10, 11, 12, 13, 14...\n",
            "1                  1                [1, 38, 39, 40, 41, 42, 43, 44, 45]\n",
            "2                  2  [1, 6, 7, 10, 11, 12, 13, 15, 16, 20, 21, 22, ...\n",
            "3                  3  [1, 10, 15, 19, 21, 24, 27, 28, 29, 30, 32, 33...\n",
            "4                  4  [1, 11, 12, 13, 15, 21, 24, 25, 34, 36, 49, 57...\n",
            "...              ...                                                ...\n",
            "3051            3051  [1, 15, 58, 168, 311, 372, 427, 429, 460, 473,...\n",
            "3052            3052  [1, 58, 168, 259, 350, 427, 497, 638, 740, 110...\n",
            "3053            3053  [1, 58, 168, 254, 311, 335, 550, 694, 725, 749...\n",
            "3054            3054  [58, 168, 227, 254, 259, 334, 372, 694, 709, 9...\n",
            "3055            3055                          [168, 182, 227, 251, 311]\n",
            "\n",
            "[3056 rows x 2 columns]\n"
          ]
        }
      ],
      "source": [
        "import pandas as pd\n",
        "import matplotlib.pyplot as plt\n",
        "\n",
        "#data = pd.read_csv('/content/drive/MyDrive/Data/small.txt')\n",
        "\n",
        "input_file_name= \"small.txt\"\n",
        "unames = ['transaction_ID', \"ID\"]\n",
        "data = pd.read_table('/content/drive/MyDrive/Data/'+input_file_name, header=None,sep=' ',names=unames, engine='python')\n",
        "#creating item list per transaction \n",
        "item_list = data.groupby(['transaction_ID'])['ID'].apply(list).reset_index()\n",
        "item_list.columns= ['transaction_ID', 'item_list']\n",
        "#print(data)\n",
        "print(item_list)\n",
        "#print(len(item_list))\n",
        "#minsup= 50.0/ len(item_list)\n",
        "#print(minsup)\n",
        "minsup_count= 100\n",
        "minconf= 0.8\n",
        "output_name= \"fun\"\n"
      ]
    },
    {
      "cell_type": "code",
      "execution_count": null,
      "metadata": {
        "colab": {
          "base_uri": "https://localhost:8080/"
        },
        "id": "pzHtjHnCfv9N",
        "outputId": "7c073938-752f-4ab1-981d-fb8675fbeec0"
      },
      "outputs": [
        {
          "output_type": "stream",
          "name": "stdout",
          "text": [
            "8743\n",
            "     items  support_count  index_item\n",
            "111   5583            100           1\n",
            "34     389            100           2\n",
            "30     360            100           3\n",
            "93    1832            100           4\n",
            "18     258            100           5\n",
            "..     ...            ...         ...\n",
            "2       15            524         108\n",
            "7       58            563         109\n",
            "24     326            654         110\n",
            "20     274            886         111\n",
            "0        1           2300         112\n",
            "\n",
            "[112 rows x 3 columns]\n"
          ]
        }
      ],
      "source": [
        "#support count for each item (without creating item list)\n",
        "import numpy as np\n",
        "count={}\n",
        "#count2={}\n",
        "\n",
        "for i in data['ID']:\n",
        "    count[i]= count.get(i, 0) + 1\n",
        "\n",
        "#creating dataframe from the dictionary of count\n",
        "df = pd.DataFrame(list(count.items()), columns = ['items','support_count'])\n",
        "number_of_items= len(df)\n",
        "print(len(df))\n",
        "\n",
        "#deleting items if support_count<=minsup_count\n",
        "for i in range(len(df)):\n",
        "  if (df['support_count'][i]<minsup_count):\n",
        "    df= df.drop(labels= i, axis =0)\n",
        "\n",
        "# sort by support count in increasing order\n",
        "df = df.reset_index(drop=True)\n",
        "df = df.sort_values(by=\"support_count\")\n",
        "#saving dataframe as text file\n",
        "np.savetxt(r'/content/drive/MyDrive/Data/support_count_of_items.txt', df.values, fmt='%d')\n",
        "\n",
        "#for x in range(len(df)):\n",
        "#  df[\"index\"]= df[\"itemID\"].transform()\n",
        "#df.reset_index(inplace=True)\n",
        "#df = df.rename(columns = {'index':'index1'})\n",
        "df[\"index_item\"]= range(1,len(df)+1)\n",
        "print(df)  "
      ]
    },
    {
      "cell_type": "code",
      "execution_count": null,
      "metadata": {
        "colab": {
          "base_uri": "https://localhost:8080/",
          "height": 295
        },
        "id": "dIeRyFRXTEez",
        "outputId": "477d61c0-021f-4e34-fb4d-17f33e8246be"
      },
      "outputs": [
        {
          "output_type": "display_data",
          "data": {
            "text/plain": [
              "<Figure size 432x288 with 1 Axes>"
            ],
            "image/png": "[encoded data removed]"
          },
          "metadata": {
            "needs_background": "light"
          }
        }
      ],
      "source": [
        "#plotting items with support counts for each item where support counts are in increasing order \n",
        "import matplotlib.pyplot as plt\n",
        "x= df['index_item']\n",
        "y = df['support_count']\n",
        "plt.scatter(x,y)\n",
        "plt.plot(x,y)\n",
        "#plt.gca().invert_xaxis()\n",
        "plt.title(\"Support counts in increasing order\")\n",
        "plt.xlabel(\"items\")\n",
        "plt.ylabel(\"support count\")\n",
        "plt.show()"
      ]
    },
    {
      "cell_type": "code",
      "execution_count": null,
      "metadata": {
        "colab": {
          "base_uri": "https://localhost:8080/"
        },
        "id": "Gz0mBHsL6ydL",
        "outputId": "8b2ca57e-4a4d-4ccb-af74-16f9767cf0ca"
      },
      "outputs": [
        {
          "output_type": "execute_result",
          "data": {
            "text/plain": [
              "(112, 3)"
            ]
          },
          "metadata": {},
          "execution_count": 8
        }
      ],
      "source": [
        "df.head()\n",
        "df.shape"
      ]
    },
    {
      "cell_type": "code",
      "execution_count": null,
      "metadata": {
        "id": "HUW1lbgSZAFU"
      },
      "outputs": [],
      "source": [
        "#calculating F1 (1-itemset)\n",
        "def support_1_itemset(df):\n",
        "  list1= []\n",
        "  list2= []\n",
        "  #list3= []\n",
        "  for item in df['items']:\n",
        "    list1.append(item)# [1,2,3]\n",
        "    #list2.append(list1)\n",
        "    #list1.clear()\n",
        "  for x in list1: #[1,2,3]\n",
        "    list2.append([x]) #[[1], [2], [3]]\n",
        "\n",
        "  return list2\n"
      ]
    },
    {
      "cell_type": "code",
      "execution_count": null,
      "metadata": {
        "id": "ptQJFNV8aCYK"
      },
      "outputs": [],
      "source": [
        "#candidate generation - Md Akib Zabed Khan\n",
        "def candidate_generation(list2, k):\n",
        "  F2 = {}\n",
        "  #for i in range(len(df['items'])-1):\n",
        "  #  for j in range(i+1,len(df['items'])):\n",
        "  #    F2[df['items'][i], df['items'][j]] = 1\n",
        "  list4= []\n",
        "  for x in range(len(list2)-1): # [[1,2], [1,3], [3,4]]\n",
        "    for y in range(x+1, len(list2)):\n",
        "      list3= []\n",
        "      count3=0\n",
        "      if(k>2):\n",
        "        for z in range(k-2):\n",
        "          if(list2[x][z]==list2[y][z]):\n",
        "            count3+=1\n",
        "      if(count3==(k-2)):\n",
        "        for item1 in list2[x]:\n",
        "          list3.append(item1)\n",
        "        for item2 in list2[y]:\n",
        "          if item2 not in list3:\n",
        "            list3.append(item2)\n",
        "      #print(list3)\n",
        "      if (len(list3))>0:\n",
        "        #print(list3)\n",
        "        list4.append(list3)\n",
        "        #list3.clear()\n",
        "  return list4\n",
        "\n"
      ]
    },
    {
      "cell_type": "code",
      "execution_count": null,
      "metadata": {
        "id": "1E1YXQv56Ncn"
      },
      "outputs": [],
      "source": [
        "#Case Test\n",
        "#F1={}\n",
        "#F1[1]= [[1],[2],[3],[4],[5],[6]]\n",
        "#k=1\n",
        "#while len(F1[k]) > 0:\n",
        "#   k += 1\n",
        "#   L = candidate_generation(F1[k-1], k) #Md Akib Zabed Khan \n",
        "#   #lpr = p(L, F[k-1])\n",
        "#   F1[k]= L\n",
        "#   print(F1[k])\n"
      ]
    },
    {
      "cell_type": "code",
      "execution_count": null,
      "metadata": {
        "id": "pBk_J9UFbTzK"
      },
      "outputs": [],
      "source": [
        "#itemset pruning - Neila Bennamane\n",
        "def itemset_pruning(list2, list3):    #list2= L= F[k] , list3 = F[k-1]\n",
        "  Lpr = []  #initialize pruned candidate dict to empty\n",
        "  #for canditem in L: #for every [ canditem1 = [x0, y0], canditem2 = [x1, y1]]\n",
        "  for canditem in list2: #for every [ canditem1 = [x0, y0], canditem2 = [x1, y1]]\n",
        "    notfound = False #set notfound to not true\n",
        "    for item in canditem: #for every item in canditem1 = [ item1 = x0, item2 = y0]\n",
        "      temp = [i for i in canditem if i!=item] #insert into temp dict every item from the candidate set  x0-xn\n",
        "      #if temp not in F[k-1]: #if an item is not in the candidate set's subset\n",
        "      if temp not in list3: \n",
        "        notfound=True # set notfound to true if an item isnt found\n",
        "        break #break out of the second for loop\n",
        "    if notfound is False: # keep the itemsets that survived the pruning\n",
        "      Lpr.append(canditem) # put unpruned itemsets into the pruned list of candidate itemset\n",
        "  return Lpr"
      ]
    },
    {
      "cell_type": "code",
      "execution_count": null,
      "metadata": {
        "id": "GED1_cMbQyX3"
      },
      "outputs": [],
      "source": [
        "#Test Case for pruning\n",
        "\n",
        "#F={}\n",
        "#F[1]= [[1],[2]]\n",
        "#L = [[1, 2], [1,3]]\n",
        "\n",
        "#k=2\n",
        "#F[k]= [[1, 2], [1, 3], [2, 3], [3, 4]]\n",
        "#L = [[1, 2, 3], [1,3,4], [1,2,3,4]]\n",
        "#k=3\n",
        "#print (itemset_pruning(L, F[k-1]))\n"
      ]
    },
    {
      "cell_type": "code",
      "execution_count": null,
      "metadata": {
        "id": "XT9pjE11Hhuq"
      },
      "outputs": [],
      "source": [
        "#support count for each item (creating the item list)- Anirudh Ravipudi\n",
        "def support_count(Lpr, k):\n",
        "  #sets = {}\n",
        "  #for list1 in item_list['item_list']:\n",
        "  \n",
        "  for itemset in Lpr: \n",
        "    #[[1,2,3], [2,3,4]\n",
        "    for trans in item_list['item_list']:\n",
        "      #for trans in item_list:\n",
        "      #[1,2,3,4,5]\n",
        "      count1= 0\n",
        "      for items in itemset: \n",
        "        #[1,2,3]\n",
        "        if items in trans:\n",
        "          count1+= 1 #count1 is counting if all the items are available in a transaction\n",
        "      if (count1==len(itemset)):\n",
        "        itemset1= tuple(itemset) #(1,2,3)\n",
        "        count[itemset1] = count.get(itemset1, 0) + 1\n",
        "          #if(count2[itemset1]> 0):\n",
        "            #print(count2[itemset1])\n",
        "           #count2{itemset} = 1\n",
        "  return count\n",
        "      \n",
        "\n",
        "\n",
        "      #print(item)\n",
        "      #count = 0\n",
        "      #for items in Lpr:\n",
        "      #  print(i)\n",
        "      #  if(item == i):\n",
        "      #    count = count + 1\n",
        "        \n",
        "      #sets[i] = count\n",
        "      #print(sets[i]) \n",
        "    #for i in list1:\n",
        "      #count2[i]= count2.get(i, 0) + 1\n",
        "      #print(i)\n",
        "  #for key in count2:\n",
        "  #  if(count2[key]>50):\n",
        "   #     print(key, \" \", count2[key])\n",
        "\n",
        "\n",
        "\n",
        "#test \n",
        "#F = {}\n",
        "#k = 3\n",
        "#F[k-1]= [[1, 2], [1,3], [2,3]]\n",
        "#Lpr = [[1, 2, 3], [1,3,4], [1,2,3,4]]\n",
        "#itemset = [[1,2,3,4], [1,2,3], [1,3]]\n",
        "#k= 3\n",
        "#item_list2= [[1, 2, 3, 4], [1,2, 3,4, 5], [1,2,3,6]]\n",
        "#Lpr = itemset_pruning(L, F[k-1])\n",
        "#support_c = support_count(item_list2, Lpr, k)\n",
        "\n",
        "#for keys, values in support_c.items():\n",
        "#  print(keys, \" \", values)\n",
        "\n",
        "\n",
        "\n"
      ]
    },
    {
      "cell_type": "code",
      "execution_count": null,
      "metadata": {
        "id": "Rg0wpLJ-bJAa"
      },
      "outputs": [],
      "source": [
        "#candidate elimination- Anthony\n",
        "def candidate_elimination(support_cnt, Lpr, minsup_count):\n",
        "  support_cnt= count\n",
        "  list1= []\n",
        "  for itemset in Lpr:\n",
        "    temp= tuple(itemset)\n",
        "    #itemset= [1,2,3] tuple= (1,2,3)\n",
        "    if(temp in support_cnt and support_cnt[temp]>=minsup_count):\n",
        "      itemset1= list(temp)\n",
        "      list1.append(itemset1)\n",
        "  return list1\n",
        "\n",
        "  #print(\"not done\")"
      ]
    },
    {
      "cell_type": "code",
      "source": [
        "# w1= {}\n",
        "# w1[(1,2,3)]= 3\n",
        "# list1= [1,2,3]\n",
        "# temp1= tuple(list1)\n",
        "# if (w1[temp1]==3): \n",
        "#   print(w1[temp1])"
      ],
      "metadata": {
        "colab": {
          "base_uri": "https://localhost:8080/"
        },
        "id": "qvKAeqdKJCw7",
        "outputId": "7f013802-a6cd-47ed-a3af-a8d55047f60a"
      },
      "execution_count": null,
      "outputs": [
        {
          "output_type": "stream",
          "name": "stdout",
          "text": [
            "3\n"
          ]
        }
      ]
    },
    {
      "cell_type": "code",
      "source": [
        "#test \n",
        "# F = {}\n",
        "# k = 3\n",
        "# F[k-1]= [[1, 2], [1,3], [2,3]]\n",
        "# L = [[1, 2, 3], [1,3,4], [1,2,3,4]]\n",
        "# itemset = [[1,2,3,4], [1,2,3], [1,3]]\n",
        "# item_list2= [[1, 2, 3, 4], [1,2, 3,4, 5], [1,2,3,6]]\n",
        "# k= 3\n",
        "# Lpr = itemset_pruning(L, F[k-1])\n",
        "# support_c = support_count(item_list2, Lpr, k= 3)\n",
        "# for keys, values in support_c.items():\n",
        "#  print(keys, \" \", values)\n",
        "# print(candidate_elimination(support_c, Lpr, minsup_count= 2))\n"
      ],
      "metadata": {
        "id": "gvtYCqgY_bl9"
      },
      "execution_count": null,
      "outputs": []
    },
    {
      "cell_type": "code",
      "execution_count": null,
      "metadata": {
        "id": "5pPCjRwTrtTb"
      },
      "outputs": [],
      "source": [
        "# from pandas._libs.algos import diff_2d\n",
        "# # generate 2- itemset\n",
        "# df2 = pd.DataFrame(list(count.items()), columns = ['item1','item2'])\n",
        "# for i in range(len(df)):\n",
        "#  df2 = df['items', i],  df['item', i+1]\n",
        "\n",
        "# # generate 3 - itemset \n",
        "\n",
        "# # generate 4 itemset"
      ]
    },
    {
      "cell_type": "code",
      "execution_count": null,
      "metadata": {
        "id": "NRSabRHkrxO4",
        "colab": {
          "base_uri": "https://localhost:8080/"
        },
        "outputId": "150c353c-9618-472c-9e7f-fc3a48a0beaa"
      },
      "outputs": [
        {
          "output_type": "stream",
          "name": "stdout",
          "text": [
            "[[27, 1], [1074, 1], [1010, 1], [4355, 1], [2762, 1], [1817, 1], [2717, 1], [1981, 1], [3815, 1], [508, 1], [2825, 1], [780, 1], [1065, 1], [998, 1], [694, 1], [474, 1], [1124, 1], [379, 1], [430, 1], [142, 1], [436, 1], [2123, 1], [346, 1], [528, 1], [179, 1], [168, 1], [1086, 1], [1342, 1], [25, 1], [254, 1], [1048, 1], [372, 1], [544, 1], [334, 1], [435, 1], [1304, 274], [1304, 1], [961, 1], [543, 1], [357, 1], [73, 1], [56, 1], [335, 1], [144, 1], [534, 274], [534, 1], [429, 274], [429, 1], [1271, 1], [1055, 1], [14, 1], [2292, 1], [411, 274], [411, 1], [465, 1], [1108, 1], [281, 274], [281, 1], [297, 1], [259, 326], [259, 274], [259, 1], [649, 1285], [649, 58], [649, 274], [649, 1], [764, 274], [764, 1], [971, 274], [971, 1], [1749, 1], [348, 58], [348, 274], [348, 1], [227, 326], [227, 274], [1285, 823], [1285, 58], [1285, 326], [1285, 274], [1285, 1], [823, 58], [823, 274], [823, 1], [1150, 15], [1150, 58], [1150, 326], [1150, 274], [1150, 1], [99, 15], [99, 58], [99, 274], [99, 1], [15, 58], [15, 326], [15, 1], [58, 326], [58, 274], [58, 1], [326, 274], [326, 1], [274, 1]]\n",
            "[[1304, 274, 1], [649, 1285, 1], [649, 274, 1], [348, 274, 1], [1285, 823, 1], [1285, 58, 1], [1285, 326, 1], [1285, 274, 1], [823, 274, 1], [1150, 274, 1], [99, 15, 1], [99, 274, 1], [15, 326, 1], [58, 326, 1], [58, 274, 1], [326, 274, 1]]\n",
            "[]\n",
            "[1666796636.9480631, 1666796662.3552861, 1666796662.6158643, 1666796662.616072]\n"
          ]
        }
      ],
      "source": [
        "##PROFESSOR NOTES \n",
        "#frequent itemsets generation part\n",
        "#df\n",
        "import time\n",
        "k = 1 \n",
        "#frequent 1 item st generation \n",
        "F = {} #frequent itemsets for k where k is the key -> a list of frequent itemsets ->value\n",
        "F[1] = support_1_itemset(df) # Md Akib Zabed Khan\n",
        "#print(F[1])\n",
        "list_time= []\n",
        "st = time.time() \n",
        "list_time.append(st) \n",
        "while len(F[k]) > 0: #if you cant generate any frequent itemsets from level k stop while loop\n",
        "   k += 1\n",
        "   L = candidate_generation(F[k-1], k) #Md Akib Zabed Khan \n",
        "   Lpr = itemset_pruning(L, F[k-1]) # Neila\n",
        "   #to do support counting we need the data and candidate itemsets\n",
        "   support_c = support_count(Lpr, k) ## we will need to support count for every transaction #Anirudh  keys are candidate itemsets of Lpr\n",
        "   #support_c = support_count(L, k)\n",
        "   #print(support_c.items())\n",
        "   F[k] = candidate_elimination(support_c, Lpr, minsup_count) #create a dictionary for all candidate itemsets #Anthony\n",
        "   print(F[k])\n",
        "   et= time.time()\n",
        "   list_time.append(et)\n",
        "\n",
        "print(list_time)\n",
        "\n",
        "   #print(L)\n",
        "   #if k==2: break\n",
        "   #elapsed_time = et - st \n",
        "   \n",
        "# #Rule Generation\n",
        "# high_conf_rule  = [<lhs>, <rhs>, <supp> ,<conf>]   \n",
        "# for k in range(2, (len(F)-1)):\n",
        "#    for fitemset in F[k]: \n",
        "#      n_rhs = 1\n",
        "#      a(fitemset, [], n_rhs, Fsupp, minconf)\n",
        "\n",
        "# def a(itemset, rhs, n_rhs, Fsupp, minconf): \n",
        "#    n_rhs +=1  \n",
        "#    for item in fitemset: \n",
        "#        rhs = rhs_in + [item]\n",
        "#        lhs = [temp in fitemset if temp!=item]\n",
        "#        tconf = compute_conf(rhs, lhs, Fsupp)\n",
        "#        if tconf >= minconf: \n",
        "#        #ass the rule in high_conf_riles\n",
        "#          a(itemset)\n",
        "#        else: \n",
        "#          return\n"
      ]
    },
    {
      "cell_type": "code",
      "source": [
        "#result for minsup= 120, minconf= 0.9\n",
        "# [[1124, 1], [142, 1], [179, 1], [168, 1], [1086, 1], [25, 1], [1048, 1], [254, 1], [372, 1], [544, 1], [334, 1], [435, 1], [1304, 274], [1304, 1], [961, 1], [543, 1], [357, 1], [73, 1], [335, 1], [56, 1], [144, 1], [534, 1], [429, 274], [429, 1], [1271, 1], [1055, 1], [14, 1], [2292, 1], [411, 1], [465, 1], [1108, 1], [281, 274], [281, 1], [297, 1], [259, 274], [259, 1], [649, 1285], [649, 274], [649, 1], [764, 1], [971, 1], [1749, 1], [348, 274], [348, 1], [227, 274], [823, 1285], [823, 274], [823, 1], [1285, 58], [1285, 326], [1285, 274], [1285, 1], [1150, 15], [1150, 274], [1150, 1], [99, 15], [99, 274], [99, 1], [15, 326], [15, 1], [58, 326], [58, 274], [58, 1], [326, 274], [326, 1], [274, 1]]\n",
        "# [[1285, 58, 1], [1285, 274, 1], [58, 326, 1], [58, 274, 1], [326, 274, 1]]\n",
        "# []\n",
        "# [1666467070.6848202, 1666467082.5133965, 1666467082.6499147, 1666467082.649985]"
      ],
      "metadata": {
        "id": "LUgc9meYMMS8"
      },
      "execution_count": null,
      "outputs": []
    },
    {
      "cell_type": "code",
      "source": [
        "#frequent itemsets and support count- generating text file minsup_cnt= 120\n",
        "str1= output_name+ '_items.txt'\n",
        "with open(str1, 'w') as f:\n",
        "    k= 1\n",
        "    lines = []\n",
        "    while(len(F[k])>0):\n",
        "      if k==1:\n",
        "        for itemset in F[k]:\n",
        "          for item in itemset:\n",
        "            line= str(item)+ \"|\"+ str(count[item])\n",
        "            lines.append(line)\n",
        "      else:\n",
        "        line=\"\"\n",
        "        for itemset in F[k]:\n",
        "          line=\"\"\n",
        "          itemset1= tuple(itemset)\n",
        "          idx=0\n",
        "          for item in itemset:\n",
        "        \n",
        "            line+=str(item)\n",
        "            if(idx<len(itemset)-1):\n",
        "              line+=\" \"\n",
        "            idx+=1\n",
        "          line+= \"|\"+ str(count[itemset1])\n",
        "          #line= str(itemset1)+ \"|\"+ str(count2[itemset1])\n",
        "          lines.append(line)\n",
        "      k1=int(k)\n",
        "      k+=1\n",
        "    for line in lines:\n",
        "        f.write(line)\n",
        "        f.write('\\n')\n"
      ],
      "metadata": {
        "id": "5cjs3K1ar9Zn"
      },
      "execution_count": null,
      "outputs": []
    },
    {
      "cell_type": "code",
      "source": [
        "exec_time_list= []\n",
        "freq_exec_time=0.0\n",
        "for i in range(1, len(list_time)):\n",
        "  exec_time= list_time[i]- list_time[i-1]\n",
        "  exec_time_list.append(exec_time)\n",
        "  freq_exec_time+= exec_time\n",
        "  print(exec_time)\n",
        "print(freq_exec_time)\n",
        "freq_exec_time_list.append(freq_exec_time)\n",
        "\n",
        "#exec_time_list for all minsup\n",
        "\n"
      ],
      "metadata": {
        "colab": {
          "base_uri": "https://localhost:8080/"
        },
        "id": "amFoKqYYi6eF",
        "outputId": "a80ba3d9-d74b-40a7-bb71-034f936e8476"
      },
      "execution_count": null,
      "outputs": [
        {
          "output_type": "stream",
          "name": "stdout",
          "text": [
            "25.890217542648315\n",
            "0.2413477897644043\n",
            "0.00016999244689941406\n",
            "26.13173532485962\n"
          ]
        }
      ]
    },
    {
      "cell_type": "code",
      "source": [
        "#for bar plot- total frequent itemsets list for different minsup\n",
        "k3=1\n",
        "\n",
        "total_frequent_itemsets= 0\n",
        "while(len(F[k3])>0):\n",
        "  total_frequent_itemsets += len(F[k3])\n",
        "  k3+=1\n",
        "total_frequent_itemsets_minsup.append(total_frequent_itemsets)\n",
        "print(total_frequent_itemsets_minsup)\n",
        "\n",
        "\n"
      ],
      "metadata": {
        "colab": {
          "base_uri": "https://localhost:8080/"
        },
        "id": "SAB1qqU7tjuS",
        "outputId": "7721873e-ceec-4a58-8f2a-51e47ee2ad57"
      },
      "execution_count": null,
      "outputs": [
        {
          "output_type": "stream",
          "name": "stdout",
          "text": [
            "[230]\n"
          ]
        }
      ]
    },
    {
      "cell_type": "code",
      "source": [
        "# tuple11= (1, 2, 3)\n",
        "# tuple12= (2, 1, 3)\n",
        "# if tuple11!=tuple12:\n",
        "#   print(\"True\")"
      ],
      "metadata": {
        "colab": {
          "base_uri": "https://localhost:8080/"
        },
        "id": "721u1l5SYH4w",
        "outputId": "e1616970-2cbd-46aa-cf11-d47fabaa12ca"
      },
      "execution_count": null,
      "outputs": [
        {
          "output_type": "stream",
          "name": "stdout",
          "text": [
            "True\n"
          ]
        }
      ]
    },
    {
      "cell_type": "code",
      "source": [
        "#Results from previous code block\n",
        "\n",
        "#[[138, 1], [7443, 4782], [7443, 4355], [7443, 1], [2973, 1], [8070, 1285], [157, 1], [3880, 1], [7446, 4782], [7446, 1], [2758, 1], [3601, 1], [3889, 1], [6698, 1], [2027, 1], [5546, 1], [1242, 1], [947, 1], [2671, 1], [1089, 1], [1701, 15], [1701, 1], [4049, 2475], [5547, 1], [4062, 910], [4062, 2475], [6435, 1], [727, 1], [1053, 1], [1277, 1], [5729, 1271], [5729, 1749], [2065, 1], [734, 1], [2353, 1], [8429, 1], [4708, 1], [457, 1], [1733, 1], [1052, 1], [1302, 1], [2394, 1], [3222, 2475], [3222, 1], [2681, 1], [2171, 1150], [1228, 1], [6316, 1], [1094, 1], [276, 1], [4834, 1010], [4834, 649], [4834, 1285], [4834, 274], [4834, 1], [735, 1], [908, 1], [456, 1], [1140, 1], [2962, 1], [2735, 1], [4289, 25], [4289, 1], [525, 25], [525, 1], [2082, 1], [2094, 15], [1751, 1], [491, 1], [1391, 1], [1162, 1], [1779, 1], [1931, 1], [710, 1], [1738, 1], [2068, 15], [1528, 1529], [2354, 1], [3339, 1], [1081, 1], [41, 1], [490, 1], [1034, 1], [3352, 1], [910, 2475], [910, 1], [1397, 1], [3528, 1], [750, 1], [1259, 1], [1728, 1], [299, 1], [554, 1], [1092, 1], [1190, 1], [609, 1285], [609, 15], [609, 1], [1030, 1], [4292, 1], [1729, 1], [660, 1], [1439, 1], [2259, 1], [6740, 1], [196, 1], [1789, 1], [282, 1], [1568, 1569], [1568, 1], [6258, 4000], [6258, 3850], [6258, 1], [1175, 1], [1584, 1], [2550, 1], [618, 1], [2895, 1], [1997, 1], [143, 772], [143, 1285], [143, 15], [143, 1], [1085, 1], [1210, 1], [2680, 1], [5726, 1271], [5726, 1749], [434, 1], [314, 1], [140, 1], [4000, 1774], [4000, 6245], [4000, 1950], [4000, 3850], [4000, 1961], [4000, 2934], [4000, 436], [4000, 435], [4000, 14], [4000, 1], [1825, 1], [1407, 1], [4944, 1], [1341, 1285], [1341, 1], [1774, 6245], [1774, 1950], [1774, 3850], [1774, 1961], [1774, 436], [1774, 14], [1774, 1], [7485, 274], [7485, 1], [818, 1], [579, 1], [449, 1285], [449, 274], [449, 1], [460, 1], [2478, 1], [1358, 777], [1358, 1], [3296, 274], [3296, 1], [3533, 1285], [3533, 15], [3533, 1], [709, 1], [230, 1], [1054, 1], [1145, 1], [2483, 1], [1306, 1], [6245, 3850], [6245, 14], [6245, 1], [467, 1], [3235, 1271], [3235, 15], [3235, 1], [2682, 1], [469, 1], [266, 1], [1571, 1], [4782, 4355], [4782, 1], [2069, 1150], [2069, 1], [751, 1], [1805, 429], [1805, 274], [1805, 1], [289, 1], [3826, 1], [89, 15], [89, 1], [916, 1], [1045, 1], [3583, 1], [1106, 1], [5255, 1], [1322, 1], [672, 1], [2114, 1150], [2114, 15], [2114, 1], [1726, 1], [1684, 1], [806, 2475], [806, 1], [100, 1], [124, 15], [124, 1], [250, 1], [1646, 1], [260, 1], [777, 1], [1873, 1], [2737, 1], [258, 1], [360, 1285], [360, 274], [360, 1], [1832, 1], [389, 1], [5583, 99], [5583, 1], [1195, 274], [1195, 1], [1950, 3850], [1950, 1], [3850, 1961], [3850, 2934], [3850, 436], [3850, 435], [3850, 14], [3850, 1], [1848, 1], [1821, 1271], [1821, 1749], [1821, 1], [1032, 1], [1192, 1], [2475, 2825], [2475, 1285], [2475, 1], [17, 1749], [17, 1], [1961, 1], [188, 274], [188, 1], [550, 1], [1284, 823], [1284, 1285], [1284, 15], [1284, 1], [1612, 1285], [1612, 15], [1612, 1], [726, 1], [399, 1], [1169, 772], [1169, 1285], [1169, 15], [1169, 1], [2934, 1], [1293, 326], [1293, 1], [1569, 274], [1569, 1], [772, 3815], [772, 823], [772, 1285], [772, 15], [772, 1], [1074, 1285], [1074, 15], [1074, 1], [277, 1], [27, 1], [1273, 144], [1273, 297], [1273, 1], [749, 1285], [749, 274], [749, 1], [1203, 1], [371, 1], [432, 274], [432, 1], [580, 15], [580, 1], [1010, 144], [1010, 649], [1010, 1285], [1010, 326], [1010, 274], [1010, 1], [4355, 1], [1515, 274], [1515, 1], [748, 1271], [748, 971], [748, 1749], [748, 1], [540, 1], [2762, 274], [2762, 1], [2717, 1], [1817, 274], [1817, 1], [1133, 274], [1133, 1], [1981, 1], [3815, 1285], [3815, 1], [2028, 274], [2028, 1], [508, 274], [508, 1], [2580, 346], [2580, 99], [2580, 15], [2580, 1], [2733, 1749], [2733, 1], [61, 15], [61, 1], [2825, 274], [2825, 1], [780, 1], [1065, 1], [998, 58], [998, 274], [998, 1], [694, 1], [1262, 274], [1262, 1], [474, 1], [1124, 326], [1124, 1], [379, 274], [379, 1], [430, 274], [430, 1], [142, 274], [142, 1], [436, 435], [436, 14], [436, 1], [2123, 1271], [2123, 649], [2123, 1749], [2123, 1150], [2123, 15], [2123, 58], [2123, 1], [346, 99], [346, 15], [346, 326], [346, 1], [528, 1], [179, 274], [179, 1], [168, 326], [168, 1], [1086, 274], [1086, 1], [1342, 1271], [1342, 1150], [1342, 15], [1342, 58], [1342, 1], [25, 274], [25, 1], [1048, 58], [1048, 1], [254, 274], [254, 1], [372, 58], [372, 274], [372, 1], [544, 15], [544, 1], [334, 99], [334, 1], [435, 14], [435, 58], [435, 1], [1304, 58], [1304, 274], [1304, 1], [961, 274], [961, 1], [543, 534], [543, 465], [543, 823], [543, 1285], [543, 99], [543, 15], [543, 326], [543, 274], [543, 1], [357, 1271], [357, 971], [357, 1749], [357, 348], [357, 1150], [357, 15], [357, 326], [357, 274], [357, 1], [73, 274], [73, 1], [56, 823], [56, 58], [56, 274], [56, 1], [335, 823], [335, 1285], [335, 15], [335, 1], [144, 297], [144, 649], [144, 1285], [144, 1150], [144, 58], [144, 326], [144, 274], [144, 1], [534, 429], [534, 971], [534, 227], [534, 1285], [534, 1150], [534, 99], [534, 274], [534, 1], [429, 465], [429, 649], [429, 971], [429, 1285], [429, 1150], [429, 326], [429, 274], [429, 1], [1271, 1055], [1271, 14], [1271, 971], [1271, 1749], [1271, 348], [1271, 1150], [1271, 99], [1271, 15], [1271, 58], [1271, 326], [1271, 1], [1055, 1749], [1055, 348], [1055, 1150], [1055, 99], [1055, 15], [1055, 58], [1055, 274], [1055, 1], [14, 1749], [14, 348], [14, 823], [14, 99], [14, 15], [14, 58], [14, 1], [2292, 99], [2292, 15], [2292, 274], [2292, 1], [411, 281], [411, 649], [411, 227], [411, 823], [411, 99], [411, 58], [411, 326], [411, 274], [411, 1], [465, 649], [465, 227], [465, 823], [465, 1285], [465, 1150], [465, 58], [465, 326], [465, 274], [465, 1], [1108, 823], [1108, 1285], [1108, 99], [1108, 58], [1108, 274], [1108, 1], [281, 649], [281, 764], [281, 227], [281, 823], [281, 1285], [281, 1150], [281, 99], [281, 58], [281, 326], [281, 274], [281, 1], [297, 649], [297, 1150], [297, 15], [297, 326], [297, 274], [297, 1], [259, 1749], [259, 99], [259, 58], [259, 326], [259, 274], [259, 1], [649, 823], [649, 1285], [649, 1150], [649, 99], [649, 15], [649, 58], [649, 326], [649, 274], [649, 1], [764, 99], [764, 58], [764, 326], [764, 274], [764, 1], [971, 1749], [971, 348], [971, 227], [971, 1150], [971, 99], [971, 15], [971, 58], [971, 326], [971, 274], [971, 1], [1749, 348], [1749, 823], [1749, 1150], [1749, 15], [1749, 58], [1749, 326], [1749, 274], [1749, 1], [348, 823], [348, 1285], [348, 1150], [348, 99], [348, 15], [348, 58], [348, 326], [348, 274], [348, 1], [227, 823], [227, 1285], [227, 99], [227, 15], [227, 58], [227, 326], [227, 274], [823, 1285], [823, 99], [823, 15], [823, 58], [823, 326], [823, 274], [823, 1], [1285, 1150], [1285, 99], [1285, 15], [1285, 58], [1285, 326], [1285, 274], [1285, 1], [1150, 99], [1150, 15], [1150, 58], [1150, 326], [1150, 274], [1150, 1], [99, 15], [99, 58], [99, 326], [99, 274], [99, 1], [15, 58], [15, 326], [15, 1], [58, 326], [58, 274], [58, 1], [326, 274], [326, 1], [274, 1]]\n",
        "#[[7443, 4782, 1], [7443, 4355, 1], [7446, 4782, 1], [4834, 1010, 1], [4834, 649, 1285], [4834, 649, 1], [4834, 1285, 274], [4834, 1285, 1], [4834, 274, 1], [609, 1285, 1], [143, 1285, 15], [143, 1285, 1], [143, 15, 1], [5726, 1271, 1749], [4000, 1774, 1950], [4000, 1774, 3850], [4000, 1774, 1961], [4000, 1774, 436], [4000, 1774, 14], [4000, 1774, 1], [4000, 3850, 1961], [4000, 3850, 436], [4000, 3850, 14], [4000, 3850, 1], [1341, 1285, 1], [1774, 3850, 436], [1774, 3850, 14], [1774, 3850, 1], [1774, 436, 14], [1774, 436, 1], [449, 1285, 274], [3296, 274, 1], [3533, 1285, 15], [3533, 1285, 1], [4782, 4355, 1], [2114, 1150, 15], [360, 1285, 1], [360, 274, 1], [5583, 99, 1], [3850, 436, 14], [3850, 436, 1], [3850, 14, 1], [1284, 1285, 15], [1284, 1285, 1], [1284, 15, 1], [1169, 1285, 1], [772, 823, 1285], [772, 823, 1], [772, 1285, 15], [772, 1285, 1], [772, 15, 1], [1074, 1285, 1], [1273, 144, 1], [1010, 649, 1285], [1010, 649, 274], [1010, 649, 1], [1010, 1285, 274], [1010, 1285, 1], [1010, 326, 1], [1010, 274, 1], [2762, 274, 1], [1817, 274, 1], [3815, 1285, 1], [508, 274, 1], [998, 274, 1], [1262, 274, 1], [142, 274, 1], [346, 15, 1], [1086, 274, 1], [25, 274, 1], [372, 274, 1], [435, 58, 1], [1304, 58, 274], [1304, 58, 1], [1304, 274, 1], [961, 274, 1], [543, 1285, 1], [357, 1271, 1749], [335, 823, 1], [335, 1285, 1], [335, 15, 1], [144, 297, 1], [144, 649, 1285], [144, 649, 1], [144, 1285, 274], [144, 1285, 1], [144, 58, 1], [144, 326, 1], [144, 274, 1], [534, 1285, 274], [534, 274, 1], [429, 274, 1], [1271, 1749, 1], [1271, 15, 1], [1271, 326, 1], [1055, 58, 1], [1055, 274, 1], [14, 15, 1], [2292, 99, 1], [2292, 15, 1], [2292, 274, 1], [411, 58, 1], [411, 274, 1], [465, 1285, 1], [465, 326, 1], [465, 274, 1], [1108, 1285, 1], [1108, 99, 1], [1108, 274, 1], [281, 58, 1], [281, 326, 1], [281, 274, 1], [297, 1150, 1], [297, 15, 1], [297, 326, 1], [297, 274, 1], [259, 58, 1], [259, 326, 1], [259, 274, 1], [649, 823, 1], [649, 1285, 58], [649, 1285, 326], [649, 1285, 274], [649, 1285, 1], [649, 1150, 1], [649, 99, 1], [649, 15, 1], [649, 58, 274], [649, 58, 1], [649, 326, 1], [649, 274, 1], [764, 58, 1], [764, 274, 1], [971, 1150, 1], [971, 15, 1], [971, 58, 1], [971, 326, 1], [971, 274, 1], [1749, 326, 1], [1749, 274, 1], [348, 1150, 1], [348, 58, 1], [348, 326, 1], [348, 274, 1], [823, 1285, 1], [823, 99, 1], [823, 15, 1], [823, 58, 1], [823, 326, 1], [823, 274, 1], [1285, 1150, 274], [1285, 1150, 1], [1285, 99, 1], [1285, 15, 1], [1285, 58, 274], [1285, 58, 1], [1285, 326, 274], [1285, 326, 1], [1285, 274, 1], [1150, 99, 1], [1150, 15, 1], [1150, 58, 274], [1150, 58, 1], [1150, 326, 1], [1150, 274, 1], [99, 15, 1], [99, 58, 1], [99, 326, 1], [99, 274, 1], [15, 58, 1], [15, 326, 1], [58, 326, 274], [58, 326, 1], [58, 274, 1], [326, 274, 1]]\n",
        "#[[4834, 649, 1285, 1], [4834, 1285, 274, 1], [4000, 1774, 3850, 436], [4000, 1774, 3850, 1], [1774, 3850, 436, 14], [772, 823, 1285, 1], [1010, 649, 1285, 1], [1010, 1285, 274, 1], [1304, 58, 274, 1], [144, 649, 1285, 1], [144, 1285, 274, 1], [649, 1285, 58, 1], [649, 1285, 274, 1], [649, 58, 274, 1], [1285, 58, 274, 1], [1285, 326, 274, 1], [58, 326, 274, 1]]\n",
        "#[]\n",
        "#[1666408844.4024417, 1666409126.0037284, 1666409130.5560634, 1666409130.7421966, 1666409130.7424557]"
      ],
      "metadata": {
        "id": "_kP2dR02v7Dg"
      },
      "execution_count": null,
      "outputs": []
    },
    {
      "cell_type": "code",
      "source": [
        "#Rule Generation\n",
        "# high_conf_rule  = [<lhs>, <rhs>, <supp> ,<conf>] \n",
        "from itertools import combinations\n",
        "import math\n",
        "\n",
        "high_conf_rule= []\n",
        "\n",
        "def compute_conf(itemset7, rhs, lhs, support_cnt):\n",
        "  support_cnt= count\n",
        "  bothside= itemset7\n",
        "  #print(support_cnt)\n",
        "  #print(bothside)\n",
        "  bothside_tuple= tuple(bothside)\n",
        "  nom=0.0\n",
        "  denom=0.0\n",
        "  if bothside_tuple in support_cnt:\n",
        "    nom= support_cnt[bothside_tuple]\n",
        "    #print(bothside_tuple, \" \", nom)\n",
        "\n",
        "  if len(lhs)==1:\n",
        "    for item in lhs:\n",
        "      denom= support_cnt[item]\n",
        "  else:\n",
        "    lhs_tuple= tuple(lhs)\n",
        "    if lhs_tuple in support_cnt:\n",
        "      denom= support_cnt[lhs_tuple]\n",
        "  #print(\"lhs: \", lhs, \"rhs: \", rhs)\n",
        "  #print(nom, \" \", denom)\n",
        "  if(denom==0):\n",
        "    return 0, nom\n",
        "  else:\n",
        "    #print(float(nom/denom))\n",
        "    return float(nom/denom), nom\n",
        "def gen_combination(itemset3, number):\n",
        "    return sum([list(map(set,combinations(itemset3, number)))], [])\n",
        "\n",
        "def rules(itemset, rhs, support_cnt, minconf): \n",
        "  #[1,2,3], [], 1, {support count}, mincof\n",
        "   #n_rhs +=1  \n",
        "   #list3 =[]\n",
        "   support_cnt= count\n",
        "   lhs= []\n",
        "   for item in itemset: \n",
        "      #if item not in rhs:\n",
        "      #    rhs = rhs + [item] # [1,2,3,4]\n",
        "      if item not in rhs:\n",
        "          lhs.append(item) #[2,3]\n",
        "   #print(\"n_rhs: \")\n",
        "   #print(\"rhs: \", rhs)\n",
        "   #print(\"lhs: \", lhs)\n",
        "\n",
        "   tconf, support_xy = compute_conf(itemset, rhs, lhs, support_cnt) # {2,3}--> {1} X--> Y support(X,Y)/ support X\n",
        "   if tconf >= minconf: \n",
        "      #add the rule in high_conf_riles\n",
        "      #list3.append(lhs)\n",
        "      #list3.append(rhs)\n",
        "      #list3.append(support_xy)\n",
        "      #list3.append(tconf)\n",
        "      row1= [lhs, rhs, support_xy, tconf]\n",
        "      high_conf_rule.append(row1)\n",
        "      # if((n_rhs+1)<= (len(itemset)-1)):\n",
        "      #    #itemset.remove\n",
        "      #    #print(n_rhs+1)\n",
        "      #    rules(itemset, rhs, n_rhs+1, support_cnt, minconf)\n",
        "      # else:\n",
        "      #   #n_rhs-=1\n",
        "      #   return\n",
        "      #n_rhs+=1\n",
        "      #else:\n",
        "      #  return \n",
        "      #rhs= []\n",
        "   \n",
        "      #list3.clear()\n",
        "      #n_rhs -= 1\n",
        "   #return high_conf_rule\n",
        "# itemset_test= [4000, 1774, 3850, 436]\n",
        "# n_rhs = 1\n",
        "# while(n_rhs<= len(itemset_test)-1):\n",
        "#    list1= gen_combination(itemset_test, n_rhs)\n",
        "#    for item3 in list1:\n",
        "#       rhs= list(item3)\n",
        "#       rules(itemset_test, rhs, count, minconf= 0.9)\n",
        "#    n_rhs += 1 \n",
        "#rules([4000, 1774, 3850, 436], [], 1, count2, minconf= 0.1) # X--> Y {4000,1774, 3850}--> {436}\n",
        "#print(high_conf_rule)\n",
        "#print(gen_combination([4000, 1774, 3850, 436], number=3))\n",
        "\n",
        "        \n",
        "# #generating rules\n",
        "number_of_high_conf_rules =[]\n",
        "st1= time.time()\n",
        "number_rules= 0\n",
        "for k in range(2, len(F)):\n",
        "   for fitemset in F[k]:\n",
        "     n_rhs = 1\n",
        "     while(n_rhs<= len(fitemset)-1):\n",
        "       list1= gen_combination(fitemset, n_rhs)\n",
        "       for item3 in list1:\n",
        "         rhs= list(item3)\n",
        "         rules(fitemset, rhs, count, minconf)\n",
        "       n_rhs += 1 \n",
        "   number_rules= len(high_conf_rule)- number_rules\n",
        "   number_of_high_conf_rules.append(number_rules)\n",
        "end1= time.time()\n",
        "print(high_conf_rule)\n",
        "#print(len(high_conf_rule))\n",
        "rules_exec_time= end1-st1\n",
        "print(rules_exec_time)\n",
        "print(len(high_conf_rule))\n"
      ],
      "metadata": {
        "id": "geHOiOJwSPSA",
        "colab": {
          "base_uri": "https://localhost:8080/"
        },
        "outputId": "74a616de-998a-47c9-8379-e0755fb5fe5a"
      },
      "execution_count": null,
      "outputs": [
        {
          "output_type": "stream",
          "name": "stdout",
          "text": [
            "[[[27], [1], 108, 0.9391304347826087], [[1074], [1], 101, 0.8782608695652174], [[1010], [1], 112, 0.9333333333333333], [[4355], [1], 114, 0.9421487603305785], [[2762], [1], 113, 0.904], [[1817], [1], 109, 0.8650793650793651], [[2717], [1], 102, 0.8095238095238095], [[3815], [1], 111, 0.8671875], [[2825], [1], 106, 0.8091603053435115], [[780], [1], 112, 0.8484848484848485], [[1065], [1], 113, 0.8432835820895522], [[998], [1], 117, 0.8602941176470589], [[1124], [1], 121, 0.8581560283687943], [[142], [1], 123, 0.8145695364238411], [[1086], [1], 131, 0.808641975308642], [[25], [1], 148, 0.8809523809523809], [[372], [1], 138, 0.8070175438596491], [[435], [1], 151, 0.8579545454545454], [[1304], [1], 155, 0.856353591160221], [[961], [1], 148, 0.8131868131868132], [[73], [1], 153, 0.8138297872340425], [[335], [1], 157, 0.8177083333333334], [[2292], [1], 202, 0.8669527896995708], [[1108], [1], 222, 0.8409090909090909], [[764], [1], 245, 0.8032786885245902], [[1304, 274], [1], 110, 0.8943089430894309], [[649, 1285], [1], 108, 0.8503937007874016], [[649, 274], [1], 101, 0.8015873015873016], [[1285, 58], [1], 124, 0.8671328671328671], [[1285, 326], [1], 111, 0.8043478260869565], [[99, 15], [1], 107, 0.8045112781954887], [[58, 326], [1], 143, 0.89937106918239]]\n",
            "0.0018725395202636719\n",
            "32\n"
          ]
        }
      ]
    },
    {
      "cell_type": "code",
      "source": [
        "print(type(rules))"
      ],
      "metadata": {
        "colab": {
          "base_uri": "https://localhost:8080/"
        },
        "id": "QYHcKHGafyc-",
        "outputId": "16ca14d1-9d2c-45fe-8c9a-d1516aa69580"
      },
      "execution_count": null,
      "outputs": [
        {
          "output_type": "stream",
          "name": "stdout",
          "text": [
            "<class 'function'>\n"
          ]
        }
      ]
    },
    {
      "cell_type": "code",
      "source": [
        "print(len(high_conf_rule))\n",
        "high_conf_rules_minsup.append(len(high_conf_rule))\n",
        "print(high_conf_rules_minsup)"
      ],
      "metadata": {
        "colab": {
          "base_uri": "https://localhost:8080/"
        },
        "id": "8s0X0lD1-Kox",
        "outputId": "744a1f63-b553-4625-a025-ed5fdf366c70"
      },
      "execution_count": null,
      "outputs": [
        {
          "output_type": "stream",
          "name": "stdout",
          "text": [
            "32\n",
            "[32]\n"
          ]
        }
      ]
    },
    {
      "cell_type": "code",
      "source": [
        "#generating text file for high conf rules minsup_cnt= 50, minconf= 0.8\n",
        "#LHS|RHS|SUPPORT|CONFIDENCE  \n",
        "with open(output_name+ '_rules.txt', 'w') as f:\n",
        "    lines = []\n",
        "    #for rules in high_conf_rule:\n",
        "    for lhs, rhs, support_xy, conf in high_conf_rule:\n",
        "          #itemset1= tuple(itemset)\n",
        "          line=\"\"\n",
        "          idx1=0\n",
        "          for item in lhs:\n",
        "            line+=str(item)\n",
        "            if idx1<(len(lhs)-1):\n",
        "              line+=\" \"\n",
        "            idx1+=1\n",
        "          line+= \"|\"\n",
        "          idx2=0\n",
        "          for item1 in rhs:\n",
        "            line+=str(item1)\n",
        "            if idx2<(len(rhs)-1):\n",
        "              line+=\" \"\n",
        "            idx2+=1\n",
        "          #line+= \"|\"\n",
        "          line+= \"|\"+ str(support_xy)+ \"|\"+ str(conf)\n",
        "\n",
        "          #line= str(lhs)+ \"|\"+ str(rhs)+ \"|\"+ str(support_xy)+ \"|\"+ str(conf)\n",
        "          lines.append(line)\n",
        "    for line in lines:\n",
        "        f.write(line)\n",
        "        f.write('\\n')\n"
      ],
      "metadata": {
        "id": "OBTxuXt55DYq"
      },
      "execution_count": null,
      "outputs": []
    },
    {
      "cell_type": "code",
      "source": [
        "# generating info.txt file\n",
        "# minsup: \n",
        "# - minconf: \n",
        "# - input file: \n",
        "# - output name: \n",
        "# - Number of items: \n",
        "# - Number of transactions: \n",
        "# - Number of frequent 1-itemsets: \n",
        "# - Number of frequent 2-itemsets: \n",
        "# - ... \n",
        "# - Number of frequent 𝑘 –itemsets: \n",
        "# - Total number of frequent items: \n",
        "# - The length 𝑘 of the largest 𝑘 -itemset: \n",
        "# - The most frequent itemset:  \n",
        "# - Number of high confidence rules: \n",
        "# - The rule with the highest confidence: \n",
        "# - Time in seconds to find the frequent itemsets:  \n",
        "# - Time in seconds to find the confident rules: \n",
        "max1=0\n",
        "freq_item= -1\n",
        "for item, value in count.items():\n",
        "  if(count[item]>max1):\n",
        "    max1= count[item]\n",
        "    freq_item= item\n",
        "highest_conf_rules= []\n",
        "max2=0\n",
        "for rule in high_conf_rule:\n",
        "  if(rule[3]>max2):\n",
        "    max2= rule[3]\n",
        "    highest_conf_rules= rule.copy()\n",
        "\n",
        "\n",
        "with open(output_name+ '_info.txt', 'w') as f:\n",
        "  lines = []\n",
        "  lines.append(\"minsup: \"+ str(minsup_count))\n",
        "  lines.append(\"input file: \"+ \"small.txt\")\n",
        "  lines.append(\"output file: \"+ \"fun_items.txt and fun_rules.txt\")\n",
        "  lines.append(\"Number of items: \"+ str(number_of_items))\n",
        "  lines.append(\"Number of transactions: \"+ str(len(item_list)))\n",
        "  lines.append(\"Number of frequent 1-itemsets: \"+ str(len(F[1])))\n",
        "  lines.append(\"Number of frequent 2-itemsets: \"+ str(len(F[2])))\n",
        "  lines.append(\"Number of frequent 3-itemsets: \"+ str(len(F[3])))\n",
        "  lines.append(\"Total number of frequent itemsets: \"+ str(len(F[1])+ len(F[2])+ len(F[3])))\n",
        "  lines.append(\"The length k of the largest k-itemset: \"+ str(k1))\n",
        "  lines.append(\"The most frequent itemset: \"+ str([freq_item]))\n",
        "  #lines.append(\"Number of high confidence rules: \"+ str(len(high_conf_rule)))\n",
        "  lines.append(\"The rule with the highest confidence: \"+ \"None\")\n",
        "  lines.append(\"The rule with the highest confidence: \"+ str(highest_conf_rules))\n",
        "  lines.append(\"Time in seconds to find the frequent itemsets: \"+str(freq_exec_time))\n",
        "  lines.append(\"Time in seconds to find the confident rules: \"+ str(rules_exec_time))\n",
        "\n",
        "\n",
        "  for line in lines:\n",
        "        f.write(line)\n",
        "        f.write('\\n')\n",
        "\n",
        "\n",
        "  \n",
        "\n",
        "  \n",
        "\n",
        "\n"
      ],
      "metadata": {
        "id": "dcYa2QcCAAfg"
      },
      "execution_count": null,
      "outputs": []
    },
    {
      "cell_type": "code",
      "source": [
        "#4. bar plot for frequent itemsets vs k\n",
        "import matplotlib.pyplot as plt\n",
        "list_x= []\n",
        "list_y= []\n",
        "for i in range(1, k1+1):\n",
        "  list_x.append(int(i))\n",
        "  list_y.append(len(F[i]))\n",
        "x= list_x\n",
        "y = list_y\n",
        "#plt.scatter(x,y)\n",
        "#plt.plot(x,y)\n",
        "#plt.gca().invert_xaxis()\n",
        "plt.bar(x, y)\n",
        "plt.xticks(np.arange(min(x), max(x)+1, 1.0))\n",
        "plt.title(\"Frequent k-itemsets for Different k\")\n",
        "plt.xlabel(\"Values of k\")\n",
        "plt.ylabel(\"Frequent k-itemsets\")\n",
        "plt.savefig(output_name+\"_plot_items.jpg\")\n",
        "plt.show()\n",
        "#plt.savefig(output_name+\"_plot_items.jpg\")\n"
      ],
      "metadata": {
        "colab": {
          "base_uri": "https://localhost:8080/",
          "height": 295
        },
        "id": "0QTH27rjY7MI",
        "outputId": "963d177c-1ca1-49b3-d6ca-1b511fde657a"
      },
      "execution_count": null,
      "outputs": [
        {
          "output_type": "display_data",
          "data": {
            "text/plain": [
              "<Figure size 432x288 with 1 Axes>"
            ],
            "image/png": "[encoded data removed]"
          },
          "metadata": {
            "needs_background": "light"
          }
        }
      ]
    },
    {
      "cell_type": "code",
      "source": [
        "#5. bar plot for number of high confidence rules for different k\n",
        "import matplotlib.pyplot as plt\n",
        "list_x= []\n",
        "for i in range(len(number_of_high_conf_rules)):\n",
        "  k2= i+2\n",
        "  list_x.append(k2)\n",
        "list_y= number_of_high_conf_rules.copy()\n",
        "x= list_x\n",
        "y = list_y\n",
        "#plt.scatter(x,y)\n",
        "#plt.plot(x,y)\n",
        "#plt.gca().invert_xaxis()\n",
        "plt.bar(x, y)\n",
        "plt.xticks(np.arange(min(x), max(x)+1, 1.0))\n",
        "plt.yticks(np.arange(0, 1, 0.1))\n",
        "plt.title(\"High-Confidence Rules for Different Values of k\")\n",
        "plt.xlabel(\"Values of k\")\n",
        "plt.ylabel(\"High-Confidence Rules\")\n",
        "plt.savefig(output_name+\"_plot_rules.jpg\")\n",
        "plt.show()\n"
      ],
      "metadata": {
        "colab": {
          "base_uri": "https://localhost:8080/",
          "height": 295
        },
        "id": "_i-2jvIXj2I2",
        "outputId": "ace6ea08-4a0d-458a-a772-e2e107688ba8"
      },
      "execution_count": null,
      "outputs": [
        {
          "output_type": "display_data",
          "data": {
            "text/plain": [
              "<Figure size 432x288 with 1 Axes>"
            ],
            "image/png": "[encoded data removed]"
          },
          "metadata": {
            "needs_background": "light"
          }
        }
      ]
    },
    {
      "cell_type": "code",
      "source": [
        "#minsup: {50, 100, 150, 200} [Note that this is the support count (actual frequency)]  \n",
        "# minconf: {0.8, 0.95} \n",
        "# For each value of minconf, generate two bar charts (or line charts).  \n",
        "# - The first will show the amount of time required to find the frequent itemsets for the different \n",
        "#values of minimum support.  \n",
        "# - The second will show the number of frequent itemsets that were found and the number of high \n",
        "# confidence rules that were generated (a set of bars for each of these two counts) for the different \n",
        "# values of minimum support. \n",
        "\n",
        "\n",
        "\n"
      ],
      "metadata": {
        "id": "G3gk6Xvjm0d1"
      },
      "execution_count": null,
      "outputs": []
    },
    {
      "cell_type": "code",
      "source": [
        "#2(a) for minconf= 0.8\n",
        "\n",
        "#x= minimum support\n",
        "#y= time\n",
        "\n",
        "list_x= [50, 100, 150, 200]\n",
        "#list_x= [120]\n",
        "x= list_x\n",
        "y= []\n",
        "for y1 in range(0, 4, 1):\n",
        "  y.append(freq_exec_time_list[y1])\n",
        "#plt.scatter(x,y)\n",
        "#plt.plot(x,y)\n",
        "#plt.gca().invert_xaxis()\n",
        "plt.bar(x, y)\n",
        "#plt.xticks(np.arange(min(x), max(x)+1, 1.0))\n",
        "plt.title(\"Time to Find the Frequent Itemsets for Different Minimum Support\")\n",
        "plt.xlabel(\"Values of Minimum Support\")\n",
        "plt.ylabel(\"Time to Find the Frequent Itemsets\")\n",
        "plt.savefig(output_name+\"_plot_2a_minconf_0.8.jpg\")\n",
        "plt.show()"
      ],
      "metadata": {
        "colab": {
          "base_uri": "https://localhost:8080/",
          "height": 295
        },
        "id": "5QZIJupHhZLM",
        "outputId": "08d612ca-a224-4ac7-d53f-4656b9de2822"
      },
      "execution_count": null,
      "outputs": [
        {
          "output_type": "display_data",
          "data": {
            "text/plain": [
              "<Figure size 432x288 with 1 Axes>"
            ],
            "image/png": "[encoded data removed]"
          },
          "metadata": {
            "needs_background": "light"
          }
        }
      ]
    },
    {
      "cell_type": "code",
      "source": [
        "#2(b) for minconf= 0.8\n",
        "\n",
        "#x= minimum support\n",
        "#y= the number of frequent itemsets and high confidence rules\n",
        "\n",
        "import numpy as np\n",
        "import matplotlib.pyplot as plt\n",
        "list_x= [50, 100, 150, 200]\n",
        "x= list_x\n",
        "y1 = total_frequent_itemsets_minsup.copy()\n",
        "print(y1)\n",
        "y2= high_conf_rules_minsup.copy()\n",
        "print(y2)\n",
        "#plt.scatter(x,y)\n",
        "#plt.plot(x,y)\n",
        "#plt.gca().invert_xaxis()\n",
        "X_axis = np.arange(len(x))\n",
        "print(X_axis)\n",
        "plt.bar(X_axis - 0.2, y1, 0.4, label = 'Total of F[k]')\n",
        "plt.bar(X_axis + 0.2, y2, 0.4, label = 'Rules')\n",
        "plt.title(\"Frequent Itemsets and High Confidence Rules for Minconf = 0.8\")\n",
        "plt.xlabel(\"Minimum Support\")\n",
        "plt.ylabel(\"Frequent Itemsets and High Confidence Rules\")\n",
        "plt.xticks(X_axis, x)\n",
        "plt.legend()\n",
        "\n",
        "plt.savefig(output_name+\"_plot_2b_minconf_0.8.jpg\")\n",
        "plt.show()\n",
        "#plt.bar(x, y)"
      ],
      "metadata": {
        "colab": {
          "base_uri": "https://localhost:8080/",
          "height": 349
        },
        "id": "n4hD9L5orbiY",
        "outputId": "9590655b-7919-4262-ca7c-41f3a544d501"
      },
      "execution_count": null,
      "outputs": [
        {
          "output_type": "stream",
          "name": "stdout",
          "text": [
            "[1195, 230, 87, 48]\n",
            "[367, 32, 7, 3]\n",
            "[0 1 2 3]\n"
          ]
        },
        {
          "output_type": "display_data",
          "data": {
            "text/plain": [
              "<Figure size 432x288 with 1 Axes>"
            ],
            "image/png": "[encoded data removed]"
          },
          "metadata": {
            "needs_background": "light"
          }
        }
      ]
    },
    {
      "cell_type": "code",
      "source": [
        "#2(b) for minconf= 0.95\n",
        "\n",
        "#x= minimum support\n",
        "#y= the number of frequent itemsets and high confidence rules\n",
        "\n",
        "import numpy as np\n",
        "\n",
        "list_x= [50, 100, 150, 200]\n",
        "x= list_x\n",
        "y1 = []\n",
        "for n1 in range(4, len(total_frequent_itemsets_minsup)):\n",
        "  y1.append(total_frequent_itemsets_minsup[n1])\n",
        "y2= []\n",
        "for n2 in range(4, len(high_conf_rules_minsup)):\n",
        "  y2.append(high_conf_rules_minsup[n2])\n",
        "#plt.scatter(x,y)\n",
        "#plt.plot(x,y)\n",
        "#plt.gca().invert_xaxis()\n",
        "X_axis = np.arange(len(x))\n",
        "plt.bar(X_axis - 0.2, y1, 0.4, label = 'Total of F[k]')\n",
        "plt.bar(X_axis + 0.2, y2, 0.4, label = 'Rules')\n",
        "plt.title(\"Frequent Itemsets and High Confidence Rules for Minconf=0.95\")\n",
        "plt.xlabel(\"Minimum Support\")\n",
        "plt.ylabel(\"Frequent Itemsets and High Confidence Rules\")\n",
        "plt.xticks(X_axis, x)\n",
        "plt.legend()\n",
        "plt.savefig(output_name+\"_plot_2b_minconf_0.95.jpg\")\n",
        "plt.show()\n",
        "#plt.bar(x, y)"
      ],
      "metadata": {
        "id": "TxjzmCCXsU4-",
        "colab": {
          "base_uri": "https://localhost:8080/",
          "height": 295
        },
        "outputId": "9cf4be83-4558-40ff-91d6-680bf6e400b8"
      },
      "execution_count": null,
      "outputs": [
        {
          "output_type": "display_data",
          "data": {
            "text/plain": [
              "<Figure size 432x288 with 1 Axes>"
            ],
            "image/png": "[encoded data removed]"
          },
          "metadata": {
            "needs_background": "light"
          }
        }
      ]
    }
  ],
  "metadata": {
    "colab": {
      "collapsed_sections": [],
      "provenance": []
    },
    "kernelspec": {
      "display_name": "Python 3",
      "name": "python3"
    },
    "language_info": {
      "name": "python"
    }
  },
  "nbformat": 4,
  "nbformat_minor": 0
}